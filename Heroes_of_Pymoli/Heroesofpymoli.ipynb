{
 "cells": [
  {
   "cell_type": "code",
   "execution_count": 28,
   "metadata": {},
   "outputs": [],
   "source": [
    "import pandas as pd\n",
    "import numpy as np\n",
    "\n"
   ]
  },
  {
   "cell_type": "code",
   "execution_count": 29,
   "metadata": {},
   "outputs": [],
   "source": [
    "data = 'Resources/purchase_data.csv'\n",
    "purch = pd.read_csv(data)"
   ]
  },
  {
   "cell_type": "code",
   "execution_count": 30,
   "metadata": {},
   "outputs": [
    {
     "data": {
      "text/html": [
       "<div>\n",
       "<style scoped>\n",
       "    .dataframe tbody tr th:only-of-type {\n",
       "        vertical-align: middle;\n",
       "    }\n",
       "\n",
       "    .dataframe tbody tr th {\n",
       "        vertical-align: top;\n",
       "    }\n",
       "\n",
       "    .dataframe thead th {\n",
       "        text-align: right;\n",
       "    }\n",
       "</style>\n",
       "<table border=\"1\" class=\"dataframe\">\n",
       "  <thead>\n",
       "    <tr style=\"text-align: right;\">\n",
       "      <th></th>\n",
       "      <th>Total Players</th>\n",
       "    </tr>\n",
       "  </thead>\n",
       "  <tbody>\n",
       "    <tr>\n",
       "      <th>0</th>\n",
       "      <td>576</td>\n",
       "    </tr>\n",
       "  </tbody>\n",
       "</table>\n",
       "</div>"
      ],
      "text/plain": [
       "   Total Players\n",
       "0            576"
      ]
     },
     "execution_count": 30,
     "metadata": {},
     "output_type": "execute_result"
    }
   ],
   "source": [
    "ttl_ppl = len(purch[\"SN\"].value_counts())\n",
    "player_count = pd.DataFrame({\"Total Players\":[ttl_ppl]})\n",
    "player_count"
   ]
  },
  {
   "cell_type": "code",
   "execution_count": 41,
   "metadata": {},
   "outputs": [
    {
     "name": "stdout",
     "output_type": "stream",
     "text": [
      "   Number of Unique Items  Average Purchase Price  Total Number of Purchases  \\\n",
      "0                     179                3.050987                        780   \n",
      "\n",
      "   Total Revenue  \n",
      "0        2379.77  \n"
     ]
    }
   ],
   "source": [
    "number_items = len((purch[\"Item ID\"]).unique())\n",
    "average_price = (purch[\"Price\"]).mean()\n",
    "ttl_purch = (purch[\"Purchase ID\"]).count()\n",
    "ttl = (purch[\"Price\"]).sum()\n",
    "purch_df = pd.DataFrame({\"Number of Unique Items\":[number_items], \"Average Purchase Price\":[average_price], \"Total Number of Purchases\":[ttl_purch], \"Total Revenue\":[ttl]})\n",
    "print(purch_df)"
   ]
  },
  {
   "cell_type": "code",
   "execution_count": 43,
   "metadata": {},
   "outputs": [
    {
     "data": {
      "text/html": [
       "<style  type=\"text/css\" >\n",
       "</style><table id=\"T_e71c937b_a542_11eb_97b8_1c1b0d3d81c1\" ><thead>    <tr>        <th class=\"blank level0\" ></th>        <th class=\"col_heading level0 col0\" >Percent of Players</th>        <th class=\"col_heading level0 col1\" >Total Count</th>    </tr></thead><tbody>\n",
       "                <tr>\n",
       "                        <th id=\"T_e71c937b_a542_11eb_97b8_1c1b0d3d81c1level0_row0\" class=\"row_heading level0 row0\" >Male</th>\n",
       "                        <td id=\"T_e71c937b_a542_11eb_97b8_1c1b0d3d81c1row0_col0\" class=\"data row0 col0\" >84.03</td>\n",
       "                        <td id=\"T_e71c937b_a542_11eb_97b8_1c1b0d3d81c1row0_col1\" class=\"data row0 col1\" >484</td>\n",
       "            </tr>\n",
       "            <tr>\n",
       "                        <th id=\"T_e71c937b_a542_11eb_97b8_1c1b0d3d81c1level0_row1\" class=\"row_heading level0 row1\" >Female</th>\n",
       "                        <td id=\"T_e71c937b_a542_11eb_97b8_1c1b0d3d81c1row1_col0\" class=\"data row1 col0\" >14.06</td>\n",
       "                        <td id=\"T_e71c937b_a542_11eb_97b8_1c1b0d3d81c1row1_col1\" class=\"data row1 col1\" >81</td>\n",
       "            </tr>\n",
       "            <tr>\n",
       "                        <th id=\"T_e71c937b_a542_11eb_97b8_1c1b0d3d81c1level0_row2\" class=\"row_heading level0 row2\" >Other / Non-Disclosed</th>\n",
       "                        <td id=\"T_e71c937b_a542_11eb_97b8_1c1b0d3d81c1row2_col0\" class=\"data row2 col0\" >1.91</td>\n",
       "                        <td id=\"T_e71c937b_a542_11eb_97b8_1c1b0d3d81c1row2_col1\" class=\"data row2 col1\" >11</td>\n",
       "            </tr>\n",
       "    </tbody></table>"
      ],
      "text/plain": [
       "<pandas.io.formats.style.Styler at 0x1c5c1b264f0>"
      ]
     },
     "execution_count": 43,
     "metadata": {},
     "output_type": "execute_result"
    }
   ],
   "source": [
    "gender = purch.groupby(\"Gender\")\n",
    "ttl_gender = gender.nunique()[\"SN\"]\n",
    "percent = ttl_gender / ttl_ppl * 100\n",
    "gender_demo = pd.DataFrame({\"Percent of Players\": percent, \"Total Count\": ttl_gender})\n",
    "gender_demo.index.name = None\n",
    "gender_demo.sort_values([\"Total Count\"], ascending = False).style.format({\"Percent of Players\":\"{:.2f}\"})"
   ]
  },
  {
   "cell_type": "code",
   "execution_count": 45,
   "metadata": {},
   "outputs": [
    {
     "data": {
      "text/html": [
       "<style  type=\"text/css\" >\n",
       "</style><table id=\"T_6b381111_a544_11eb_8a6d_1c1b0d3d81c1\" ><thead>    <tr>        <th class=\"blank level0\" ></th>        <th class=\"col_heading level0 col0\" >Purchase Count</th>        <th class=\"col_heading level0 col1\" >Average Purchase Price</th>        <th class=\"col_heading level0 col2\" >Average Purchase Value</th>        <th class=\"col_heading level0 col3\" >Average Purchase Total per Person</th>    </tr>    <tr>        <th class=\"index_name level0\" >Gender</th>        <th class=\"blank\" ></th>        <th class=\"blank\" ></th>        <th class=\"blank\" ></th>        <th class=\"blank\" ></th>    </tr></thead><tbody>\n",
       "                <tr>\n",
       "                        <th id=\"T_6b381111_a544_11eb_8a6d_1c1b0d3d81c1level0_row0\" class=\"row_heading level0 row0\" >Female</th>\n",
       "                        <td id=\"T_6b381111_a544_11eb_8a6d_1c1b0d3d81c1row0_col0\" class=\"data row0 col0\" >113</td>\n",
       "                        <td id=\"T_6b381111_a544_11eb_8a6d_1c1b0d3d81c1row0_col1\" class=\"data row0 col1\" >$3.20</td>\n",
       "                        <td id=\"T_6b381111_a544_11eb_8a6d_1c1b0d3d81c1row0_col2\" class=\"data row0 col2\" >$361.94</td>\n",
       "                        <td id=\"T_6b381111_a544_11eb_8a6d_1c1b0d3d81c1row0_col3\" class=\"data row0 col3\" >$4.47</td>\n",
       "            </tr>\n",
       "            <tr>\n",
       "                        <th id=\"T_6b381111_a544_11eb_8a6d_1c1b0d3d81c1level0_row1\" class=\"row_heading level0 row1\" >Male</th>\n",
       "                        <td id=\"T_6b381111_a544_11eb_8a6d_1c1b0d3d81c1row1_col0\" class=\"data row1 col0\" >652</td>\n",
       "                        <td id=\"T_6b381111_a544_11eb_8a6d_1c1b0d3d81c1row1_col1\" class=\"data row1 col1\" >$3.02</td>\n",
       "                        <td id=\"T_6b381111_a544_11eb_8a6d_1c1b0d3d81c1row1_col2\" class=\"data row1 col2\" >$1,967.64</td>\n",
       "                        <td id=\"T_6b381111_a544_11eb_8a6d_1c1b0d3d81c1row1_col3\" class=\"data row1 col3\" >$4.07</td>\n",
       "            </tr>\n",
       "            <tr>\n",
       "                        <th id=\"T_6b381111_a544_11eb_8a6d_1c1b0d3d81c1level0_row2\" class=\"row_heading level0 row2\" >Other / Non-Disclosed</th>\n",
       "                        <td id=\"T_6b381111_a544_11eb_8a6d_1c1b0d3d81c1row2_col0\" class=\"data row2 col0\" >15</td>\n",
       "                        <td id=\"T_6b381111_a544_11eb_8a6d_1c1b0d3d81c1row2_col1\" class=\"data row2 col1\" >$3.35</td>\n",
       "                        <td id=\"T_6b381111_a544_11eb_8a6d_1c1b0d3d81c1row2_col2\" class=\"data row2 col2\" >$50.19</td>\n",
       "                        <td id=\"T_6b381111_a544_11eb_8a6d_1c1b0d3d81c1row2_col3\" class=\"data row2 col3\" >$4.56</td>\n",
       "            </tr>\n",
       "    </tbody></table>"
      ],
      "text/plain": [
       "<pandas.io.formats.style.Styler at 0x1c5c2cce160>"
      ]
     },
     "execution_count": 45,
     "metadata": {},
     "output_type": "execute_result"
    }
   ],
   "source": [
    "count = gender[\"Purchase ID\"].count()\n",
    "avg_purch = gender[\"Price\"].mean()\n",
    "purch_ttl = gender[\"Price\"].sum()\n",
    "avg_purch_gend = purch_ttl/ttl_gender\n",
    "gender_demo = pd.DataFrame({\"Purchase Count\": count, \"Average Purchase Price\": avg_purch, \"Average Purchase Value\": purch_ttl, \"Average Purchase Total per Person\": avg_purch_gend})\n",
    "gender_demo.index.name = \"Gender\"\n",
    "gender_demo.style.format({\"Average Purchase Value\": \"${:,.2f}\", \"Average Purchase Price\": \"${:,.2f}\", \"Average Purchase Total per Person\": \"${:,.2f}\"})\n"
   ]
  },
  {
   "cell_type": "code",
   "execution_count": 63,
   "metadata": {},
   "outputs": [
    {
     "data": {
      "text/html": [
       "<style  type=\"text/css\" >\n",
       "</style><table id=\"T_7a424012_a547_11eb_aa08_1c1b0d3d81c1\" ><thead>    <tr>        <th class=\"blank level0\" ></th>        <th class=\"col_heading level0 col0\" >Purchase Count</th>        <th class=\"col_heading level0 col1\" >Average Purchase Price</th>        <th class=\"col_heading level0 col2\" >Average Purchase Value</th>        <th class=\"col_heading level0 col3\" >Average Purchase Total per Person</th>    </tr>    <tr>        <th class=\"index_name level0\" >Age</th>        <th class=\"blank\" ></th>        <th class=\"blank\" ></th>        <th class=\"blank\" ></th>        <th class=\"blank\" ></th>    </tr></thead><tbody>\n",
       "                <tr>\n",
       "                        <th id=\"T_7a424012_a547_11eb_aa08_1c1b0d3d81c1level0_row0\" class=\"row_heading level0 row0\" ><10</th>\n",
       "                        <td id=\"T_7a424012_a547_11eb_aa08_1c1b0d3d81c1row0_col0\" class=\"data row0 col0\" >23</td>\n",
       "                        <td id=\"T_7a424012_a547_11eb_aa08_1c1b0d3d81c1row0_col1\" class=\"data row0 col1\" >$3.35</td>\n",
       "                        <td id=\"T_7a424012_a547_11eb_aa08_1c1b0d3d81c1row0_col2\" class=\"data row0 col2\" >$17.00</td>\n",
       "                        <td id=\"T_7a424012_a547_11eb_aa08_1c1b0d3d81c1row0_col3\" class=\"data row0 col3\" >$4.54</td>\n",
       "            </tr>\n",
       "            <tr>\n",
       "                        <th id=\"T_7a424012_a547_11eb_aa08_1c1b0d3d81c1level0_row1\" class=\"row_heading level0 row1\" >10-14</th>\n",
       "                        <td id=\"T_7a424012_a547_11eb_aa08_1c1b0d3d81c1row1_col0\" class=\"data row1 col0\" >28</td>\n",
       "                        <td id=\"T_7a424012_a547_11eb_aa08_1c1b0d3d81c1row1_col1\" class=\"data row1 col1\" >$2.96</td>\n",
       "                        <td id=\"T_7a424012_a547_11eb_aa08_1c1b0d3d81c1row1_col2\" class=\"data row1 col2\" >$22.00</td>\n",
       "                        <td id=\"T_7a424012_a547_11eb_aa08_1c1b0d3d81c1row1_col3\" class=\"data row1 col3\" >$3.76</td>\n",
       "            </tr>\n",
       "            <tr>\n",
       "                        <th id=\"T_7a424012_a547_11eb_aa08_1c1b0d3d81c1level0_row2\" class=\"row_heading level0 row2\" >15-19</th>\n",
       "                        <td id=\"T_7a424012_a547_11eb_aa08_1c1b0d3d81c1row2_col0\" class=\"data row2 col0\" >136</td>\n",
       "                        <td id=\"T_7a424012_a547_11eb_aa08_1c1b0d3d81c1row2_col1\" class=\"data row2 col1\" >$3.04</td>\n",
       "                        <td id=\"T_7a424012_a547_11eb_aa08_1c1b0d3d81c1row2_col2\" class=\"data row2 col2\" >$107.00</td>\n",
       "                        <td id=\"T_7a424012_a547_11eb_aa08_1c1b0d3d81c1row2_col3\" class=\"data row2 col3\" >$3.86</td>\n",
       "            </tr>\n",
       "            <tr>\n",
       "                        <th id=\"T_7a424012_a547_11eb_aa08_1c1b0d3d81c1level0_row3\" class=\"row_heading level0 row3\" >20-24</th>\n",
       "                        <td id=\"T_7a424012_a547_11eb_aa08_1c1b0d3d81c1row3_col0\" class=\"data row3 col0\" >365</td>\n",
       "                        <td id=\"T_7a424012_a547_11eb_aa08_1c1b0d3d81c1row3_col1\" class=\"data row3 col1\" >$3.05</td>\n",
       "                        <td id=\"T_7a424012_a547_11eb_aa08_1c1b0d3d81c1row3_col2\" class=\"data row3 col2\" >$258.00</td>\n",
       "                        <td id=\"T_7a424012_a547_11eb_aa08_1c1b0d3d81c1row3_col3\" class=\"data row3 col3\" >$4.32</td>\n",
       "            </tr>\n",
       "            <tr>\n",
       "                        <th id=\"T_7a424012_a547_11eb_aa08_1c1b0d3d81c1level0_row4\" class=\"row_heading level0 row4\" >25-29</th>\n",
       "                        <td id=\"T_7a424012_a547_11eb_aa08_1c1b0d3d81c1row4_col0\" class=\"data row4 col0\" >101</td>\n",
       "                        <td id=\"T_7a424012_a547_11eb_aa08_1c1b0d3d81c1row4_col1\" class=\"data row4 col1\" >$2.90</td>\n",
       "                        <td id=\"T_7a424012_a547_11eb_aa08_1c1b0d3d81c1row4_col2\" class=\"data row4 col2\" >$77.00</td>\n",
       "                        <td id=\"T_7a424012_a547_11eb_aa08_1c1b0d3d81c1row4_col3\" class=\"data row4 col3\" >$3.81</td>\n",
       "            </tr>\n",
       "            <tr>\n",
       "                        <th id=\"T_7a424012_a547_11eb_aa08_1c1b0d3d81c1level0_row5\" class=\"row_heading level0 row5\" >30-34</th>\n",
       "                        <td id=\"T_7a424012_a547_11eb_aa08_1c1b0d3d81c1row5_col0\" class=\"data row5 col0\" >73</td>\n",
       "                        <td id=\"T_7a424012_a547_11eb_aa08_1c1b0d3d81c1row5_col1\" class=\"data row5 col1\" >$2.93</td>\n",
       "                        <td id=\"T_7a424012_a547_11eb_aa08_1c1b0d3d81c1row5_col2\" class=\"data row5 col2\" >$52.00</td>\n",
       "                        <td id=\"T_7a424012_a547_11eb_aa08_1c1b0d3d81c1row5_col3\" class=\"data row5 col3\" >$4.12</td>\n",
       "            </tr>\n",
       "            <tr>\n",
       "                        <th id=\"T_7a424012_a547_11eb_aa08_1c1b0d3d81c1level0_row6\" class=\"row_heading level0 row6\" >35-39</th>\n",
       "                        <td id=\"T_7a424012_a547_11eb_aa08_1c1b0d3d81c1row6_col0\" class=\"data row6 col0\" >41</td>\n",
       "                        <td id=\"T_7a424012_a547_11eb_aa08_1c1b0d3d81c1row6_col1\" class=\"data row6 col1\" >$3.60</td>\n",
       "                        <td id=\"T_7a424012_a547_11eb_aa08_1c1b0d3d81c1row6_col2\" class=\"data row6 col2\" >$31.00</td>\n",
       "                        <td id=\"T_7a424012_a547_11eb_aa08_1c1b0d3d81c1row6_col3\" class=\"data row6 col3\" >$4.76</td>\n",
       "            </tr>\n",
       "            <tr>\n",
       "                        <th id=\"T_7a424012_a547_11eb_aa08_1c1b0d3d81c1level0_row7\" class=\"row_heading level0 row7\" >40+</th>\n",
       "                        <td id=\"T_7a424012_a547_11eb_aa08_1c1b0d3d81c1row7_col0\" class=\"data row7 col0\" >13</td>\n",
       "                        <td id=\"T_7a424012_a547_11eb_aa08_1c1b0d3d81c1row7_col1\" class=\"data row7 col1\" >$2.94</td>\n",
       "                        <td id=\"T_7a424012_a547_11eb_aa08_1c1b0d3d81c1row7_col2\" class=\"data row7 col2\" >$12.00</td>\n",
       "                        <td id=\"T_7a424012_a547_11eb_aa08_1c1b0d3d81c1row7_col3\" class=\"data row7 col3\" >$3.19</td>\n",
       "            </tr>\n",
       "    </tbody></table>"
      ],
      "text/plain": [
       "<pandas.io.formats.style.Styler at 0x1c5c2e8c970>"
      ]
     },
     "execution_count": 63,
     "metadata": {},
     "output_type": "execute_result"
    }
   ],
   "source": [
    "age_bin = [0, 9.90, 14.90, 19.90, 24.90, 29.90, 34.90, 39.90, 99999]\n",
    "group_name = [\"<10\", \"10-14\", \"15-19\", \"20-24\", \"25-29\", \"30-34\", \"35-39\", \"40+\"]\n",
    "purch[\"Age Group\"] = pd.cut(purch[\"Age\"], age_bin, labels=group_name)\n",
    "purch\n",
    "age = purch.groupby(\"Age Group\")\n",
    "age_ttl = age[\"SN\"].nunique()\n",
    "age_count = age[\"Purchase ID\"].count()\n",
    "avg_age = age[\"Price\"].mean()\n",
    "avg_age_ttl = age[\"Price\"].sum()\n",
    "avg_purch_age = avg_age_ttl / age_ttl\n",
    "age_demo = pd.DataFrame({\"Purchase Count\": age_count, \"Average Purchase Price\": avg_age, \"Average Purchase Value\": age_ttl, \"Average Purchase Total per Person\": avg_purch_age})\n",
    "age_demo.index.name = \"Age\"\n",
    "age_demo.style.format({\"Average Purchase Value\": \"${:,.2f}\", \"Average Purchase Price\": \"${:,.2f}\", \"Average Purchase Total per Person\": \"${:,.2f}\"})\n"
   ]
  },
  {
   "cell_type": "code",
   "execution_count": 70,
   "metadata": {},
   "outputs": [
    {
     "data": {
      "text/html": [
       "<style  type=\"text/css\" >\n",
       "</style><table id=\"T_70e82ff1_a54b_11eb_a848_1c1b0d3d81c1\" ><thead>    <tr>        <th class=\"blank level0\" ></th>        <th class=\"col_heading level0 col0\" >Purchase Count</th>        <th class=\"col_heading level0 col1\" >Average Purchase Price</th>        <th class=\"col_heading level0 col2\" >Total Purchase Value</th>    </tr>    <tr>        <th class=\"index_name level0\" >SN</th>        <th class=\"blank\" ></th>        <th class=\"blank\" ></th>        <th class=\"blank\" ></th>    </tr></thead><tbody>\n",
       "                <tr>\n",
       "                        <th id=\"T_70e82ff1_a54b_11eb_a848_1c1b0d3d81c1level0_row0\" class=\"row_heading level0 row0\" >Lisosia93</th>\n",
       "                        <td id=\"T_70e82ff1_a54b_11eb_a848_1c1b0d3d81c1row0_col0\" class=\"data row0 col0\" ><bound method SeriesGroupBy.count of <pandas.core.groupby.generic.SeriesGroupBy object at 0x000001C5C2E9A2E0>></td>\n",
       "                        <td id=\"T_70e82ff1_a54b_11eb_a848_1c1b0d3d81c1row0_col1\" class=\"data row0 col1\" >$3.79</td>\n",
       "                        <td id=\"T_70e82ff1_a54b_11eb_a848_1c1b0d3d81c1row0_col2\" class=\"data row0 col2\" >$18.96</td>\n",
       "            </tr>\n",
       "            <tr>\n",
       "                        <th id=\"T_70e82ff1_a54b_11eb_a848_1c1b0d3d81c1level0_row1\" class=\"row_heading level0 row1\" >Idastidru52</th>\n",
       "                        <td id=\"T_70e82ff1_a54b_11eb_a848_1c1b0d3d81c1row1_col0\" class=\"data row1 col0\" ><bound method SeriesGroupBy.count of <pandas.core.groupby.generic.SeriesGroupBy object at 0x000001C5C2E9A2E0>></td>\n",
       "                        <td id=\"T_70e82ff1_a54b_11eb_a848_1c1b0d3d81c1row1_col1\" class=\"data row1 col1\" >$3.86</td>\n",
       "                        <td id=\"T_70e82ff1_a54b_11eb_a848_1c1b0d3d81c1row1_col2\" class=\"data row1 col2\" >$15.45</td>\n",
       "            </tr>\n",
       "            <tr>\n",
       "                        <th id=\"T_70e82ff1_a54b_11eb_a848_1c1b0d3d81c1level0_row2\" class=\"row_heading level0 row2\" >Chamjask73</th>\n",
       "                        <td id=\"T_70e82ff1_a54b_11eb_a848_1c1b0d3d81c1row2_col0\" class=\"data row2 col0\" ><bound method SeriesGroupBy.count of <pandas.core.groupby.generic.SeriesGroupBy object at 0x000001C5C2E9A2E0>></td>\n",
       "                        <td id=\"T_70e82ff1_a54b_11eb_a848_1c1b0d3d81c1row2_col1\" class=\"data row2 col1\" >$4.61</td>\n",
       "                        <td id=\"T_70e82ff1_a54b_11eb_a848_1c1b0d3d81c1row2_col2\" class=\"data row2 col2\" >$13.83</td>\n",
       "            </tr>\n",
       "            <tr>\n",
       "                        <th id=\"T_70e82ff1_a54b_11eb_a848_1c1b0d3d81c1level0_row3\" class=\"row_heading level0 row3\" >Iral74</th>\n",
       "                        <td id=\"T_70e82ff1_a54b_11eb_a848_1c1b0d3d81c1row3_col0\" class=\"data row3 col0\" ><bound method SeriesGroupBy.count of <pandas.core.groupby.generic.SeriesGroupBy object at 0x000001C5C2E9A2E0>></td>\n",
       "                        <td id=\"T_70e82ff1_a54b_11eb_a848_1c1b0d3d81c1row3_col1\" class=\"data row3 col1\" >$3.40</td>\n",
       "                        <td id=\"T_70e82ff1_a54b_11eb_a848_1c1b0d3d81c1row3_col2\" class=\"data row3 col2\" >$13.62</td>\n",
       "            </tr>\n",
       "            <tr>\n",
       "                        <th id=\"T_70e82ff1_a54b_11eb_a848_1c1b0d3d81c1level0_row4\" class=\"row_heading level0 row4\" >Iskadarya95</th>\n",
       "                        <td id=\"T_70e82ff1_a54b_11eb_a848_1c1b0d3d81c1row4_col0\" class=\"data row4 col0\" ><bound method SeriesGroupBy.count of <pandas.core.groupby.generic.SeriesGroupBy object at 0x000001C5C2E9A2E0>></td>\n",
       "                        <td id=\"T_70e82ff1_a54b_11eb_a848_1c1b0d3d81c1row4_col1\" class=\"data row4 col1\" >$4.37</td>\n",
       "                        <td id=\"T_70e82ff1_a54b_11eb_a848_1c1b0d3d81c1row4_col2\" class=\"data row4 col2\" >$13.10</td>\n",
       "            </tr>\n",
       "    </tbody></table>"
      ],
      "text/plain": [
       "<pandas.io.formats.style.Styler at 0x1c5c2e8c100>"
      ]
     },
     "execution_count": 70,
     "metadata": {},
     "output_type": "execute_result"
    }
   ],
   "source": [
    "spender = purch.groupby(\"SN\")\n",
    "spend_count = spender[\"Purchase ID\"].count\n",
    "avg_spend_price = spender[\"Price\"].mean()\n",
    "ttl_spend = spender[\"Price\"].sum()\n",
    "top_spender = pd.DataFrame({\"Purchase Count\": spend_count, \"Average Purchase Price\": avg_spend_price, \"Total Purchase Value\": ttl_spend})\n",
    "format_spender = top_spender.sort_values([\"Total Purchase Value\"], ascending=False).head()\n",
    "format_spender.style.format({\"Average Purchase Total\": \"${:,.2f}\", \"Average Purchase Price\": \"${:,.2f}\", \"Total Purchase Value\": \"${:,.2f}\"})"
   ]
  },
  {
   "cell_type": "code",
   "execution_count": 72,
   "metadata": {},
   "outputs": [
    {
     "ename": "KeyError",
     "evalue": "'Purchase Count'",
     "output_type": "error",
     "traceback": [
      "\u001b[1;31m---------------------------------------------------------------------------\u001b[0m",
      "\u001b[1;31mKeyError\u001b[0m                                  Traceback (most recent call last)",
      "\u001b[1;32m<ipython-input-72-094d84b1c6a6>\u001b[0m in \u001b[0;36m<module>\u001b[1;34m\u001b[0m\n\u001b[0;32m      5\u001b[0m \u001b[0mitem_price\u001b[0m \u001b[1;33m=\u001b[0m \u001b[0mitem_value\u001b[0m\u001b[1;33m/\u001b[0m\u001b[0mitem_count\u001b[0m\u001b[1;33m\u001b[0m\u001b[1;33m\u001b[0m\u001b[0m\n\u001b[0;32m      6\u001b[0m \u001b[0mtop_items\u001b[0m \u001b[1;33m=\u001b[0m \u001b[0mpd\u001b[0m\u001b[1;33m.\u001b[0m\u001b[0mDataFrame\u001b[0m\u001b[1;33m(\u001b[0m\u001b[1;33m{\u001b[0m\u001b[1;34m\"Purchse Count\"\u001b[0m\u001b[1;33m:\u001b[0m \u001b[0mitem_count\u001b[0m\u001b[1;33m,\u001b[0m \u001b[1;34m\"Item Price\"\u001b[0m\u001b[1;33m:\u001b[0m \u001b[0mitem_price\u001b[0m\u001b[1;33m,\u001b[0m \u001b[1;34m\"Total Purchase Value\"\u001b[0m\u001b[1;33m:\u001b[0m \u001b[0mitem_value\u001b[0m\u001b[1;33m}\u001b[0m\u001b[1;33m)\u001b[0m\u001b[1;33m\u001b[0m\u001b[1;33m\u001b[0m\u001b[0m\n\u001b[1;32m----> 7\u001b[1;33m \u001b[0mtop_format\u001b[0m \u001b[1;33m=\u001b[0m \u001b[0mtop_items\u001b[0m\u001b[1;33m.\u001b[0m\u001b[0msort_values\u001b[0m\u001b[1;33m(\u001b[0m\u001b[1;33m[\u001b[0m\u001b[1;34m\"Purchase Count\"\u001b[0m\u001b[1;33m]\u001b[0m\u001b[1;33m,\u001b[0m \u001b[0mascending\u001b[0m\u001b[1;33m=\u001b[0m\u001b[1;32mFalse\u001b[0m\u001b[1;33m)\u001b[0m\u001b[1;33m.\u001b[0m\u001b[0mhead\u001b[0m\u001b[1;33m(\u001b[0m\u001b[1;33m)\u001b[0m\u001b[1;33m\u001b[0m\u001b[1;33m\u001b[0m\u001b[0m\n\u001b[0m\u001b[0;32m      8\u001b[0m \u001b[0mtop_format\u001b[0m\u001b[1;33m.\u001b[0m\u001b[0mstyle\u001b[0m\u001b[1;33m.\u001b[0m\u001b[0mformat\u001b[0m\u001b[1;33m(\u001b[0m\u001b[1;33m{\u001b[0m\u001b[1;34m\"Average Purchase Total\"\u001b[0m\u001b[1;33m:\u001b[0m \u001b[1;34m\"${:,.2f}\"\u001b[0m\u001b[1;33m,\u001b[0m \u001b[1;34m\"Average Purchase Price\"\u001b[0m\u001b[1;33m:\u001b[0m \u001b[1;34m\"${:,.2f}\"\u001b[0m\u001b[1;33m,\u001b[0m \u001b[1;34m\"Total Purchase Value\"\u001b[0m\u001b[1;33m:\u001b[0m \u001b[1;34m\"${:,.2f}\"\u001b[0m\u001b[1;33m}\u001b[0m\u001b[1;33m)\u001b[0m\u001b[1;33m\u001b[0m\u001b[1;33m\u001b[0m\u001b[0m\n",
      "\u001b[1;32m~\\anaconda3\\lib\\site-packages\\pandas\\core\\frame.py\u001b[0m in \u001b[0;36msort_values\u001b[1;34m(self, by, axis, ascending, inplace, kind, na_position, ignore_index, key)\u001b[0m\n\u001b[0;32m   5292\u001b[0m \u001b[1;33m\u001b[0m\u001b[0m\n\u001b[0;32m   5293\u001b[0m             \u001b[0mby\u001b[0m \u001b[1;33m=\u001b[0m \u001b[0mby\u001b[0m\u001b[1;33m[\u001b[0m\u001b[1;36m0\u001b[0m\u001b[1;33m]\u001b[0m\u001b[1;33m\u001b[0m\u001b[1;33m\u001b[0m\u001b[0m\n\u001b[1;32m-> 5294\u001b[1;33m             \u001b[0mk\u001b[0m \u001b[1;33m=\u001b[0m \u001b[0mself\u001b[0m\u001b[1;33m.\u001b[0m\u001b[0m_get_label_or_level_values\u001b[0m\u001b[1;33m(\u001b[0m\u001b[0mby\u001b[0m\u001b[1;33m,\u001b[0m \u001b[0maxis\u001b[0m\u001b[1;33m=\u001b[0m\u001b[0maxis\u001b[0m\u001b[1;33m)\u001b[0m\u001b[1;33m\u001b[0m\u001b[1;33m\u001b[0m\u001b[0m\n\u001b[0m\u001b[0;32m   5295\u001b[0m \u001b[1;33m\u001b[0m\u001b[0m\n\u001b[0;32m   5296\u001b[0m             \u001b[1;31m# need to rewrap column in Series to apply key function\u001b[0m\u001b[1;33m\u001b[0m\u001b[1;33m\u001b[0m\u001b[1;33m\u001b[0m\u001b[0m\n",
      "\u001b[1;32m~\\anaconda3\\lib\\site-packages\\pandas\\core\\generic.py\u001b[0m in \u001b[0;36m_get_label_or_level_values\u001b[1;34m(self, key, axis)\u001b[0m\n\u001b[0;32m   1561\u001b[0m             \u001b[0mvalues\u001b[0m \u001b[1;33m=\u001b[0m \u001b[0mself\u001b[0m\u001b[1;33m.\u001b[0m\u001b[0maxes\u001b[0m\u001b[1;33m[\u001b[0m\u001b[0maxis\u001b[0m\u001b[1;33m]\u001b[0m\u001b[1;33m.\u001b[0m\u001b[0mget_level_values\u001b[0m\u001b[1;33m(\u001b[0m\u001b[0mkey\u001b[0m\u001b[1;33m)\u001b[0m\u001b[1;33m.\u001b[0m\u001b[0m_values\u001b[0m\u001b[1;33m\u001b[0m\u001b[1;33m\u001b[0m\u001b[0m\n\u001b[0;32m   1562\u001b[0m         \u001b[1;32melse\u001b[0m\u001b[1;33m:\u001b[0m\u001b[1;33m\u001b[0m\u001b[1;33m\u001b[0m\u001b[0m\n\u001b[1;32m-> 1563\u001b[1;33m             \u001b[1;32mraise\u001b[0m \u001b[0mKeyError\u001b[0m\u001b[1;33m(\u001b[0m\u001b[0mkey\u001b[0m\u001b[1;33m)\u001b[0m\u001b[1;33m\u001b[0m\u001b[1;33m\u001b[0m\u001b[0m\n\u001b[0m\u001b[0;32m   1564\u001b[0m \u001b[1;33m\u001b[0m\u001b[0m\n\u001b[0;32m   1565\u001b[0m         \u001b[1;31m# Check for duplicates\u001b[0m\u001b[1;33m\u001b[0m\u001b[1;33m\u001b[0m\u001b[1;33m\u001b[0m\u001b[0m\n",
      "\u001b[1;31mKeyError\u001b[0m: 'Purchase Count'"
     ]
    }
   ],
   "source": [
    "items = purch[[\"Item ID\", \"Item Name\", \"Price\"]]\n",
    "item_stat = items.groupby([\"Item ID\", \"Item Name\"])\n",
    "item_count = item_stat[\"Price\"].count()\n",
    "item_value = item_stat[\"Price\"].sum()\n",
    "item_price = item_value/item_count\n",
    "top_items = pd.DataFrame({\"Purchse Count\": item_count, \"Item Price\": item_price, \"Total Purchase Value\": item_value})\n",
    "top_format = top_items.sort_values([\"Purchase Count\"], ascending=False).head()\n",
    "top_format.style.format({\"Average Purchase Total\": \"${:,.2f}\", \"Average Purchase Price\": \"${:,.2f}\", \"Total Purchase Value\": \"${:,.2f}\"})"
   ]
  },
  {
   "cell_type": "code",
   "execution_count": null,
   "metadata": {},
   "outputs": [],
   "source": []
  }
 ],
 "metadata": {
  "kernelspec": {
   "display_name": "Python 3",
   "language": "python",
   "name": "python3"
  },
  "language_info": {
   "codemirror_mode": {
    "name": "ipython",
    "version": 3
   },
   "file_extension": ".py",
   "mimetype": "text/x-python",
   "name": "python",
   "nbconvert_exporter": "python",
   "pygments_lexer": "ipython3",
   "version": "3.8.5"
  }
 },
 "nbformat": 4,
 "nbformat_minor": 4
}
