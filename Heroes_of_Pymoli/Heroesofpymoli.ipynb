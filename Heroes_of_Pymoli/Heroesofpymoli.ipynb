{
 "cells": [
  {
   "cell_type": "code",
   "execution_count": 28,
   "metadata": {},
   "outputs": [],
   "source": [
    "import pandas as pd\n",
    "import numpy as np\n",
    "\n"
   ]
  },
  {
   "cell_type": "code",
   "execution_count": 29,
   "metadata": {},
   "outputs": [],
   "source": [
    "data = 'Resources/purchase_data.csv'\n",
    "purch = pd.read_csv(data)"
   ]
  },
  {
   "cell_type": "code",
   "execution_count": 30,
   "metadata": {},
   "outputs": [
    {
     "data": {
      "text/html": [
       "<div>\n",
       "<style scoped>\n",
       "    .dataframe tbody tr th:only-of-type {\n",
       "        vertical-align: middle;\n",
       "    }\n",
       "\n",
       "    .dataframe tbody tr th {\n",
       "        vertical-align: top;\n",
       "    }\n",
       "\n",
       "    .dataframe thead th {\n",
       "        text-align: right;\n",
       "    }\n",
       "</style>\n",
       "<table border=\"1\" class=\"dataframe\">\n",
       "  <thead>\n",
       "    <tr style=\"text-align: right;\">\n",
       "      <th></th>\n",
       "      <th>Total Players</th>\n",
       "    </tr>\n",
       "  </thead>\n",
       "  <tbody>\n",
       "    <tr>\n",
       "      <th>0</th>\n",
       "      <td>576</td>\n",
       "    </tr>\n",
       "  </tbody>\n",
       "</table>\n",
       "</div>"
      ],
      "text/plain": [
       "   Total Players\n",
       "0            576"
      ]
     },
     "execution_count": 30,
     "metadata": {},
     "output_type": "execute_result"
    }
   ],
   "source": [
    "ttl_ppl = len(purch[\"SN\"].value_counts())\n",
    "player_count = pd.DataFrame({\"Total Players\":[ttl_ppl]})\n",
    "player_count"
   ]
  },
  {
   "cell_type": "code",
   "execution_count": 41,
   "metadata": {},
   "outputs": [
    {
     "name": "stdout",
     "output_type": "stream",
     "text": [
      "   Number of Unique Items  Average Purchase Price  Total Number of Purchases  \\\n",
      "0                     179                3.050987                        780   \n",
      "\n",
      "   Total Revenue  \n",
      "0        2379.77  \n"
     ]
    }
   ],
   "source": [
    "number_items = len((purch[\"Item ID\"]).unique())\n",
    "average_price = (purch[\"Price\"]).mean()\n",
    "ttl_purch = (purch[\"Purchase ID\"]).count()\n",
    "ttl = (purch[\"Price\"]).sum()\n",
    "purch_df = pd.DataFrame({\"Number of Unique Items\":[number_items], \"Average Purchase Price\":[average_price], \"Total Number of Purchases\":[ttl_purch], \"Total Revenue\":[ttl]})\n",
    "print(purch_df)"
   ]
  },
  {
   "cell_type": "code",
   "execution_count": 43,
   "metadata": {},
   "outputs": [
    {
     "data": {
      "text/html": [
       "<style  type=\"text/css\" >\n",
       "</style><table id=\"T_e71c937b_a542_11eb_97b8_1c1b0d3d81c1\" ><thead>    <tr>        <th class=\"blank level0\" ></th>        <th class=\"col_heading level0 col0\" >Percent of Players</th>        <th class=\"col_heading level0 col1\" >Total Count</th>    </tr></thead><tbody>\n",
       "                <tr>\n",
       "                        <th id=\"T_e71c937b_a542_11eb_97b8_1c1b0d3d81c1level0_row0\" class=\"row_heading level0 row0\" >Male</th>\n",
       "                        <td id=\"T_e71c937b_a542_11eb_97b8_1c1b0d3d81c1row0_col0\" class=\"data row0 col0\" >84.03</td>\n",
       "                        <td id=\"T_e71c937b_a542_11eb_97b8_1c1b0d3d81c1row0_col1\" class=\"data row0 col1\" >484</td>\n",
       "            </tr>\n",
       "            <tr>\n",
       "                        <th id=\"T_e71c937b_a542_11eb_97b8_1c1b0d3d81c1level0_row1\" class=\"row_heading level0 row1\" >Female</th>\n",
       "                        <td id=\"T_e71c937b_a542_11eb_97b8_1c1b0d3d81c1row1_col0\" class=\"data row1 col0\" >14.06</td>\n",
       "                        <td id=\"T_e71c937b_a542_11eb_97b8_1c1b0d3d81c1row1_col1\" class=\"data row1 col1\" >81</td>\n",
       "            </tr>\n",
       "            <tr>\n",
       "                        <th id=\"T_e71c937b_a542_11eb_97b8_1c1b0d3d81c1level0_row2\" class=\"row_heading level0 row2\" >Other / Non-Disclosed</th>\n",
       "                        <td id=\"T_e71c937b_a542_11eb_97b8_1c1b0d3d81c1row2_col0\" class=\"data row2 col0\" >1.91</td>\n",
       "                        <td id=\"T_e71c937b_a542_11eb_97b8_1c1b0d3d81c1row2_col1\" class=\"data row2 col1\" >11</td>\n",
       "            </tr>\n",
       "    </tbody></table>"
      ],
      "text/plain": [
       "<pandas.io.formats.style.Styler at 0x1c5c1b264f0>"
      ]
     },
     "execution_count": 43,
     "metadata": {},
     "output_type": "execute_result"
    }
   ],
   "source": [
    "gender = purch.groupby(\"Gender\")\n",
    "ttl_gender = gender.nunique()[\"SN\"]\n",
    "percent = ttl_gender / ttl_ppl * 100\n",
    "gender_demo = pd.DataFrame({\"Percent of Players\": percent, \"Total Count\": ttl_gender})\n",
    "gender_demo.index.name = None\n",
    "gender_demo.sort_values([\"Total Count\"], ascending = False).style.format({\"Percent of Players\":\"{:.2f}\"})"
   ]
  },
  {
   "cell_type": "code",
   "execution_count": null,
   "metadata": {},
   "outputs": [],
   "source": [
    "count = gender[\"Purchase ID\"].count()\n",
    "avg_purch = gender[\"Price\"].mean()\n",
    "purch_ttl = gender[\"Price\"].sum()\n",
    "avg_purch_gend = purch_ttl/ttl_gender\n",
    "gender_demo = pd.DataFrame({\"Purchase Count\": count, \"Average Purchase Price\": avg_purch, \"Average Purchase Value\": purch_ttl, \"Average Purchase Total per Person\": avg_purch_gender})\n",
    "gender_demo.index.name = \"Gender\"\n",
    "gender_demo.style.format({\"Average Purchase Value\": \"${:,.2f}\", \"Average Purchase Price\": \"${:,.}\"})"
   ]
  }
 ],
 "metadata": {
  "kernelspec": {
   "display_name": "Python 3",
   "language": "python",
   "name": "python3"
  },
  "language_info": {
   "codemirror_mode": {
    "name": "ipython",
    "version": 3
   },
   "file_extension": ".py",
   "mimetype": "text/x-python",
   "name": "python",
   "nbconvert_exporter": "python",
   "pygments_lexer": "ipython3",
   "version": "3.8.5"
  }
 },
 "nbformat": 4,
 "nbformat_minor": 4
}
